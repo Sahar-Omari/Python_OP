{
  "nbformat": 4,
  "nbformat_minor": 0,
  "metadata": {
    "colab": {
      "name": "Copy of python1.ipynb",
      "provenance": [],
      "collapsed_sections": []
    },
    "kernelspec": {
      "name": "python3",
      "display_name": "Python 3"
    },
    "language_info": {
      "name": "python"
    }
  },
  "cells": [
    {
      "cell_type": "code",
      "metadata": {
        "colab": {
          "base_uri": "https://localhost:8080/"
        },
        "id": "1F0H-Dk2FvPO",
        "outputId": "f5343375-b5eb-4c69-c40f-fd833e09ba58"
      },
      "source": [
        "#Calculator Function Examples\n",
        "def calc(a,b,op):\n",
        "  if op=='+':\n",
        "     print('a+b =',a,'+',b,'=',a+b)\n",
        "  elif op=='-':\n",
        "     print('a-b =',a-b)\n",
        "  elif op=='*':\n",
        "     print('a*b =',a*b)\n",
        "  elif op=='/':\n",
        "     print('a/b =',a/b)\n",
        "  elif op=='//':\n",
        "     print('a//b =',a//b)\n",
        "  elif op=='%':\n",
        "     print('a mod b =',a%b)\n",
        "  else :\n",
        "     pass\n",
        "calc(2,5,'+')\n",
        "calc(5,3,'/')\n",
        "calc(6,4,'%')\n",
        "calc(2,3,'//')\n",
        "calc(5,4,'*')\n",
        "calc(1,7,'-')\n",
        "calc(1,4,'=')\n"
      ],
      "execution_count": null,
      "outputs": [
        {
          "output_type": "stream",
          "name": "stdout",
          "text": [
            "a+b = 2 + 5 = 7\n",
            "a/b = 1.6666666666666667\n",
            "a mod b = 2\n",
            "a//b = 0\n",
            "a*b = 20\n",
            "a-b = -6\n",
            "The operation is not exist\n"
          ]
        }
      ]
    },
    {
      "cell_type": "code",
      "metadata": {
        "colab": {
          "base_uri": "https://localhost:8080/"
        },
        "id": "SH7mCQC1MTzu",
        "outputId": "74daf85a-1a68-4b60-fd00-e185194f82b0"
      },
      "source": [
        "def calc1(num1,num2):\n",
        "  sum=num1+num2\n",
        "  sub=num1-num2\n",
        "  mul=num1*num2\n",
        "  div=num1/num2\n",
        "  return sum,sub,mul,div #Return multiple values\n",
        "sum,sub,mul,div=calc1(5,3)\n",
        "print(sum)\n",
        "print(sub)\n",
        "print(mul)\n",
        "print(div)\n",
        "num1=int(input('ENTER N1 '))\n",
        "num2=int(input('ENTER N2 '))\n",
        "sum,sub,mul,div=calc1(num1,num2)\n",
        "\n",
        "print(sum)\n",
        "print(sub)\n",
        "print(mul)\n",
        "print(div)"
      ],
      "execution_count": null,
      "outputs": [
        {
          "output_type": "stream",
          "name": "stdout",
          "text": [
            "8\n",
            "2\n",
            "15\n",
            "1.6666666666666667\n",
            "ENTER N1 9\n",
            "ENTER N2 7\n",
            "16\n",
            "2\n",
            "63\n",
            "1.2857142857142858\n"
          ]
        }
      ]
    },
    {
      "cell_type": "code",
      "metadata": {
        "colab": {
          "base_uri": "https://localhost:8080/"
        },
        "id": "CiywFW4MUuEr",
        "outputId": "aed72499-5b00-4b92-822d-a28ec2149440"
      },
      "source": [
        "#Calculate The Age of Person\n",
        "birth_date = datetime.date(1998, 4, 25)\n",
        "now=date.today()\n",
        "print(now.year)\n",
        "now_date = datetime.date(now.year,now.month,now.day)\n",
        "\n",
        "timeage = now_date - birth_date\n",
        "age = timeage.days\n",
        "print(age/365)"
      ],
      "execution_count": null,
      "outputs": [
        {
          "output_type": "stream",
          "name": "stdout",
          "text": [
            "2021\n",
            "23.517808219178082\n"
          ]
        }
      ]
    },
    {
      "cell_type": "code",
      "metadata": {
        "id": "7NDph8fgXxFS"
      },
      "source": [
        ""
      ],
      "execution_count": null,
      "outputs": []
    },
    {
      "cell_type": "code",
      "metadata": {
        "id": "GngAdMa_VYCi"
      },
      "source": [
        ""
      ],
      "execution_count": null,
      "outputs": []
    },
    {
      "cell_type": "markdown",
      "metadata": {
        "id": "GhMF2zt9pzAt"
      },
      "source": [
        "Multiple Python Excercises"
      ]
    },
    {
      "cell_type": "code",
      "metadata": {
        "colab": {
          "base_uri": "https://localhost:8080/"
        },
        "id": "VnRfFuJrX0QJ",
        "outputId": "94004ae2-c247-4251-f996-6523120164e3"
      },
      "source": [
        "s=0\n",
        "for i in range(0,10):\n",
        "  s=s+i\n",
        "  print('Current Number is {}'.format(i),' Previous Number is {}'.format(s-i),'Sum :', s)\n",
        "  s=i"
      ],
      "execution_count": null,
      "outputs": [
        {
          "output_type": "stream",
          "name": "stdout",
          "text": [
            "Current Number is 0  Previous Number is 0 Sum: 0\n",
            "Current Number is 1  Previous Number is 0 Sum: 1\n",
            "Current Number is 2  Previous Number is 1 Sum: 3\n",
            "Current Number is 3  Previous Number is 2 Sum: 5\n",
            "Current Number is 4  Previous Number is 3 Sum: 7\n",
            "Current Number is 5  Previous Number is 4 Sum: 9\n",
            "Current Number is 6  Previous Number is 5 Sum: 11\n",
            "Current Number is 7  Previous Number is 6 Sum: 13\n",
            "Current Number is 8  Previous Number is 7 Sum: 15\n",
            "Current Number is 9  Previous Number is 8 Sum: 17\n"
          ]
        }
      ]
    },
    {
      "cell_type": "code",
      "metadata": {
        "colab": {
          "base_uri": "https://localhost:8080/"
        },
        "id": "DWiiAEvja1hB",
        "outputId": "7f1f74ea-0299-4280-e4cf-9b1fc7970cb6"
      },
      "source": [
        "str1 = \"PYNATIVE\"\n",
        "for i in range(len(str1)):\n",
        "  if i%2==0:\n",
        "    print(str1[i])\n"
      ],
      "execution_count": null,
      "outputs": [
        {
          "output_type": "stream",
          "name": "stdout",
          "text": [
            "P\n",
            "N\n",
            "T\n",
            "V\n"
          ]
        }
      ]
    },
    {
      "cell_type": "code",
      "metadata": {
        "colab": {
          "base_uri": "https://localhost:8080/"
        },
        "id": "Cg3IPlUgbufJ",
        "outputId": "25459fea-f430-4d05-8db0-40fa9f29c98b"
      },
      "source": [
        "str1 = \"STUDENTS\"\n",
        "for i in range(len(str1)):\n",
        "  if i%2==0:\n",
        "    print(str1[i])\n"
      ],
      "execution_count": null,
      "outputs": [
        {
          "output_type": "stream",
          "name": "stdout",
          "text": [
            "S\n",
            "U\n",
            "E\n",
            "T\n"
          ]
        }
      ]
    },
    {
      "cell_type": "code",
      "metadata": {
        "id": "U-Kk3vBwgomQ"
      },
      "source": [
        ""
      ],
      "execution_count": null,
      "outputs": []
    },
    {
      "cell_type": "code",
      "metadata": {
        "colab": {
          "base_uri": "https://localhost:8080/"
        },
        "id": "yX8nhBwtcJHc",
        "outputId": "82991fa7-ecb4-47c1-dc7c-99523dc3d530"
      },
      "source": [
        "def remove_char(str1,n):\n",
        "   for i in range(n):\n",
        "     str1=str1[n:]\n",
        "    #  remove(str1,len(str1)-i)\n",
        "     print(str1)\n",
        "remove_char('sahar',1)"
      ],
      "execution_count": null,
      "outputs": [
        {
          "output_type": "stream",
          "name": "stdout",
          "text": [
            "ahar\n"
          ]
        }
      ]
    },
    {
      "cell_type": "code",
      "metadata": {
        "colab": {
          "base_uri": "https://localhost:8080/"
        },
        "id": "CevHhwuvekUB",
        "outputId": "9e55c648-7cf7-47bd-b46c-ed24ebd4d0b4"
      },
      "source": [
        "numbers_x = [10, 20, 30, 40, 10]\n",
        "numbers_y = [75, 65, 35, 75, 30]\n",
        "def check(str_list):\n",
        "     if str_list[0]==str_list[len(str_list)-1]:\n",
        "        return True\n",
        "     else:\n",
        "      return False\n",
        "print(check(numbers_y))"
      ],
      "execution_count": null,
      "outputs": [
        {
          "output_type": "stream",
          "name": "stdout",
          "text": [
            "False\n"
          ]
        }
      ]
    },
    {
      "cell_type": "code",
      "metadata": {
        "colab": {
          "base_uri": "https://localhost:8080/"
        },
        "id": "h4DB25kgf9iv",
        "outputId": "50e34260-17d3-4e5b-da42-813ff721ddae"
      },
      "source": [
        "numbers_z = [7, 15, 35, 51, 31]\n",
        "for i in range(len(numbers_z)):\n",
        "  if numbers_z[i]%5==0:\n",
        "    print(numbers_z[i],end=' ')\n"
      ],
      "execution_count": null,
      "outputs": [
        {
          "output_type": "stream",
          "name": "stdout",
          "text": [
            "15 35 "
          ]
        }
      ]
    },
    {
      "cell_type": "code",
      "metadata": {
        "colab": {
          "base_uri": "https://localhost:8080/"
        },
        "id": "h6OzLlHfg9Mu",
        "outputId": "4356219b-1cd9-4518-80fa-8bbdc7e019b0"
      },
      "source": [
        "str_x = \"Emma is good developer. Emma is a writer\"\n",
        "print(str_x.count('Emma'))\n"
      ],
      "execution_count": null,
      "outputs": [
        {
          "output_type": "stream",
          "name": "stdout",
          "text": [
            "2\n"
          ]
        }
      ]
    },
    {
      "cell_type": "code",
      "metadata": {
        "colab": {
          "base_uri": "https://localhost:8080/"
        },
        "id": "UboLkFwfh4VH",
        "outputId": "86a156f3-e432-446d-a77c-557f376a2634"
      },
      "source": [
        "for i in range(1,6):\n",
        "  print('\\n')\n",
        "  for ii in range(1,6):\n",
        "     print(i,end=' ')\n",
        "     if i==ii:\n",
        "       break"
      ],
      "execution_count": null,
      "outputs": [
        {
          "output_type": "stream",
          "name": "stdout",
          "text": [
            "\n",
            "\n",
            "1 \n",
            "\n",
            "2 2 \n",
            "\n",
            "3 3 3 \n",
            "\n",
            "4 4 4 4 \n",
            "\n",
            "5 5 5 5 5 "
          ]
        }
      ]
    },
    {
      "cell_type": "code",
      "metadata": {
        "colab": {
          "base_uri": "https://localhost:8080/"
        },
        "id": "fOaxwADAjZ-_",
        "outputId": "692cd739-56b3-42e9-bc95-114f5b55fcb0"
      },
      "source": [
        "r=0\n",
        "num=int(input('Orginal number '))\n",
        "num1=num\n",
        "while num != 0:\n",
        "  d=num%10\n",
        "  num=num//10\n",
        "  r=r*10+d\n",
        "if r==num1:\n",
        "  print('yes')\n",
        "else:\n",
        "  print('no')"
      ],
      "execution_count": null,
      "outputs": [
        {
          "output_type": "stream",
          "name": "stdout",
          "text": [
            "Orginal number 45\n",
            "no\n"
          ]
        }
      ]
    },
    {
      "cell_type": "code",
      "metadata": {
        "colab": {
          "base_uri": "https://localhost:8080/"
        },
        "id": "aLveQ_bnluZe",
        "outputId": "466ab809-7e9e-4d98-e597-fe6186b7fbad"
      },
      "source": [
        "list1 = [10, 20, 25, 30, 35]\n",
        "list2 = [40, 45, 60, 75, 90]\n",
        "\n",
        "list3=[]\n",
        "for i in range(len(list1)):\n",
        "  if list1[i]%2!=0:\n",
        "    list3.append(list1[i])\n",
        "for i in range(len(list2)):\n",
        "  if list2[i]%2==0:\n",
        "    list3.append(list2[i])\n",
        "print(list3)"
      ],
      "execution_count": null,
      "outputs": [
        {
          "output_type": "stream",
          "name": "stdout",
          "text": [
            "[25, 35, 40, 60, 90]\n"
          ]
        }
      ]
    },
    {
      "cell_type": "markdown",
      "metadata": {
        "id": "CM6q5fH5p8hM"
      },
      "source": [
        "Object Orianted Programming in Python"
      ]
    },
    {
      "cell_type": "code",
      "metadata": {
        "colab": {
          "base_uri": "https://localhost:8080/"
        },
        "id": "62aesZfstBgz",
        "outputId": "6711cb93-2e6f-4b2b-ef1d-353f18f68c27"
      },
      "source": [
        "class shapes:\n",
        "  name1='sahar'\n",
        "  def __init__(self,name,color,area):\n",
        "    self.name=name\n",
        "    self.color=color\n",
        "    self.area=area\n",
        "  def data (self):\n",
        "    print('The name is :',self.name,' The color of the shape is',self.color,end=' ')\n",
        "  def update_color(self,color_new):\n",
        "    self.color=color_new\n",
        "  def calc_area_circle(self,r):\n",
        "    self.area= 3.14*(r**2)\n",
        "  def calc_area_rect(self,h,w):\n",
        "    self.area= h*w\n",
        "circle=shapes('Circle','Red',22.6)\n",
        "triangle=shapes('Triangle','yellow',12.5)\n",
        "rect=shapes('Rectangle','green',66)\n",
        "print(circle.color)\n",
        "print(triangle.data())\n",
        "circle.update_color('Green')\n",
        "print(circle.color)\n",
        "circle.calc_area_circle(5)\n",
        "print(circle.area)\n",
        "rect.calc_area_rect(7,4)\n",
        "print(rect.area)\n",
        "shapes.name1='haneen'\n",
        "print(shapes.name1)\n"
      ],
      "execution_count": null,
      "outputs": [
        {
          "output_type": "stream",
          "name": "stdout",
          "text": [
            "Red\n",
            "The name is : Triangle  The color of the shape is yellow None\n",
            "Green\n",
            "78.5\n",
            "28\n",
            "haneen\n"
          ]
        }
      ]
    },
    {
      "cell_type": "code",
      "metadata": {
        "id": "t-nMZXbWMzTZ"
      },
      "source": [
        ""
      ],
      "execution_count": null,
      "outputs": []
    }
  ]
}